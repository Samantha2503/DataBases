{
 "cells": [
  {
   "cell_type": "code",
   "execution_count": 18,
   "metadata": {},
   "outputs": [],
   "source": [
    "import pandas as pd\n",
    "from pathlib import Path"
   ]
  },
  {
   "cell_type": "code",
   "execution_count": null,
   "metadata": {},
   "outputs": [],
   "source": [
    "input_folder=#cambiar con path\n",
    "output_csv="
   ]
  },
  {
   "cell_type": "code",
   "execution_count": null,
   "metadata": {},
   "outputs": [],
   "source": []
  },
  {
   "cell_type": "code",
   "execution_count": 20,
   "metadata": {},
   "outputs": [],
   "source": [
    "# Create an empty list to store each dataframe\n",
    "dataframes = []"
   ]
  },
  {
   "cell_type": "code",
   "execution_count": 21,
   "metadata": {},
   "outputs": [
    {
     "name": "stdout",
     "output_type": "stream",
     "text": [
      "Skipping unsupported file format: /Users/samanthabritoozuna/Desktop/Semestre5/Multivariados/DataBases/.DS_Store\n",
      "Skipping /Users/samanthabritoozuna/Desktop/Semestre5/Multivariados/DataBases/~$DATOS HISTÓRICOS 2023_2024_TODAS ESTACIONES_ITESM.xlsx due to error: File is not a zip file\n"
     ]
    }
   ],
   "source": [
    "\n",
    "# Create an empty list to store each dataframe\n",
    "dataframes = []\n",
    "\n",
    "# Iterate over each Excel file in the specified folder\n",
    "for file in Path(input_folder).glob(\"*.*\"):\n",
    "    # Check file extension and specify the engine accordingly\n",
    "    file_extension = file.suffix.lower()\n",
    "    \n",
    "    if file_extension in [\".xls\", \".xlsx\", \".xlsm\"]:\n",
    "        try:\n",
    "            # Attempt to load the Excel file\n",
    "            excel_data = pd.ExcelFile(file, engine=\"openpyxl\" if file_extension == \".xlsx\" else \"xlrd\")\n",
    "            \n",
    "            # Iterate over each sheet in the Excel file\n",
    "            for sheet_name in excel_data.sheet_names:\n",
    "                # Read the sheet into a DataFrame\n",
    "                df = excel_data.parse(sheet_name)\n",
    "                \n",
    "                # Add Zone column based on sheet name\n",
    "                df[\"Zone\"] = sheet_name\n",
    "                \n",
    "                # Convert 'date' column to datetime format and split into separate columns\n",
    "                df['date'] = pd.to_datetime(df['date'], format='%d/%m/%y %H:%M', errors='coerce')\n",
    "                df.dropna(subset=['date'], inplace=True)  # Remove rows where 'date' conversion failed\n",
    "                df['Year'] = df['date'].dt.year\n",
    "                df['Month'] = df['date'].dt.month\n",
    "                df['Day'] = df['date'].dt.day\n",
    "                \n",
    "                # Append dataframe to the list\n",
    "                dataframes.append(df)\n",
    "                \n",
    "        except Exception as e:\n",
    "            print(f\"Skipping {file} due to error: {e}\")\n",
    "    else:\n",
    "        print(f\"Skipping unsupported file format: {file}\")\n",
    "\n",
    "# Concatenate all dataframes\n",
    "combined_df = pd.concat(dataframes, ignore_index=True)\n",
    "\n",
    "# Save combined dataframe to a CSV file\n",
    "combined_df.to_csv(output_csv, index=False)\n"
   ]
  },
  {
   "cell_type": "code",
   "execution_count": null,
   "metadata": {},
   "outputs": [],
   "source": []
  },
  {
   "cell_type": "code",
   "execution_count": null,
   "metadata": {},
   "outputs": [],
   "source": []
  }
 ],
 "metadata": {
  "kernelspec": {
   "display_name": "Python 3",
   "language": "python",
   "name": "python3"
  },
  "language_info": {
   "codemirror_mode": {
    "name": "ipython",
    "version": 3
   },
   "file_extension": ".py",
   "mimetype": "text/x-python",
   "name": "python",
   "nbconvert_exporter": "python",
   "pygments_lexer": "ipython3",
   "version": "3.12.5"
  }
 },
 "nbformat": 4,
 "nbformat_minor": 2
}
